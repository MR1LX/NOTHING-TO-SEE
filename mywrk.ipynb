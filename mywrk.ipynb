{
 "cells": [
  {
   "cell_type": "code",
   "execution_count": 2,
   "metadata": {},
   "outputs": [
    {
     "name": "stdout",
     "output_type": "stream",
     "text": [
      "car\n"
     ]
    }
   ],
   "source": [
    "print(\"car\")"
   ]
  },
  {
   "cell_type": "code",
   "execution_count": 3,
   "metadata": {},
   "outputs": [
    {
     "name": "stdout",
     "output_type": "stream",
     "text": [
      "SUPRA\n"
     ]
    }
   ],
   "source": [
    "thisdict={\n",
    "     \"Brand\":\"Toyata\",\n",
    "     \"Model\":\"SUPRA\",\n",
    "      \"Year\":\"2002\"     \n",
    "     }\n",
    "print(thisdict[\"Model\"])"
   ]
  },
  {
   "cell_type": "code",
   "execution_count": 4,
   "metadata": {},
   "outputs": [
    {
     "name": "stdout",
     "output_type": "stream",
     "text": [
      "{'Company': 'MERCERDES', 'Model': 'gt3', 'Year': 3002, 'year': 2018}\n"
     ]
    }
   ],
   "source": [
    "thisdict={\n",
    "    \"Company\":\"MERCERDES\",\n",
    "    \"Model\":\"gt3\",\n",
    "    \"Year\":3002\n",
    "}\n",
    "thisdict.update({\"year\":2018})\n",
    "print(thisdict)"
   ]
  },
  {
   "cell_type": "code",
   "execution_count": 5,
   "metadata": {},
   "outputs": [
    {
     "name": "stdout",
     "output_type": "stream",
     "text": [
      "the pain in spain is awesome\n"
     ]
    }
   ],
   "source": [
    "a=\"\"\"the pain in spain is awesome\"\"\"\n",
    "print(a)"
   ]
  },
  {
   "cell_type": "code",
   "execution_count": 6,
   "metadata": {},
   "outputs": [
    {
     "name": "stdout",
     "output_type": "stream",
     "text": [
      "('car', 'supra', 'skyline', 'gtr')\n",
      "('car', 'supra', 'skyline', 'gtr')\n",
      "('car', 'supra', 'skyline', 'gtr')\n",
      "('car', 'supra', 'skyline', 'gtr')\n"
     ]
    }
   ],
   "source": [
    "a=\"car\",\"supra\",\"skyline\",\"gtr\"\n",
    "for i in a:\n",
    "    print(a)"
   ]
  },
  {
   "cell_type": "code",
   "execution_count": 7,
   "metadata": {},
   "outputs": [
    {
     "name": "stdout",
     "output_type": "stream",
     "text": [
      "5\n"
     ]
    }
   ],
   "source": [
    "a=\"car\",\"supra\",\"skyline\",\"gtr\",\"E34\"\n",
    "print(len(a))"
   ]
  },
  {
   "cell_type": "code",
   "execution_count": 8,
   "metadata": {},
   "outputs": [
    {
     "name": "stdout",
     "output_type": "stream",
     "text": [
      "('car', 'supra')\n"
     ]
    }
   ],
   "source": [
    "a=\"car\",\"supra\",\"skyline\",\"gtr\"\n",
    "print(a[:2])"
   ]
  },
  {
   "cell_type": "code",
   "execution_count": 9,
   "metadata": {},
   "outputs": [
    {
     "name": "stdout",
     "output_type": "stream",
     "text": [
      "('supra', 'buzzkill')\n"
     ]
    }
   ],
   "source": [
    "a=\"rtx\",\"supra\",\"buzzkill\",\"Quarenteen\"\n",
    "print(a[1:3])\n"
   ]
  },
  {
   "cell_type": "code",
   "execution_count": 10,
   "metadata": {},
   "outputs": [
    {
     "name": "stdout",
     "output_type": "stream",
     "text": [
      "GTR\n"
     ]
    }
   ],
   "source": [
    "a=\"gtr\"\n",
    "print(a.upper())"
   ]
  },
  {
   "cell_type": "code",
   "execution_count": 11,
   "metadata": {},
   "outputs": [
    {
     "name": "stdout",
     "output_type": "stream",
     "text": [
      "I AM DRIVING A SKYLINE R34 WITH A V12 IN IT MAX TURBO\n"
     ]
    }
   ],
   "source": [
    "a=\"i am driving a skyline r34 with a v12 in it max turbo\"\n",
    "x=a.upper()\n",
    "print(x)"
   ]
  },
  {
   "cell_type": "code",
   "execution_count": 15,
   "metadata": {},
   "outputs": [
    {
     "name": "stdout",
     "output_type": "stream",
     "text": [
      "Grade B\n"
     ]
    }
   ],
   "source": [
    "score=int(input(\"Enter the value\"))\n",
    "if score >= 80:\n",
    "    print(\"Grade A\")\n",
    "elif score >=70:\n",
    "    print(\"Grade B\")\n",
    "elif score >=60:\n",
    "    print(\"Grade C\")\n",
    "elif score>=50:\n",
    "    print(\"Grade D\")\n",
    "else:\n",
    "    print(\"Faill \")"
   ]
  }
 ],
 "metadata": {
  "kernelspec": {
   "display_name": "Python 3.10.5 64-bit",
   "language": "python",
   "name": "python3"
  },
  "language_info": {
   "codemirror_mode": {
    "name": "ipython",
    "version": 3
   },
   "file_extension": ".py",
   "mimetype": "text/x-python",
   "name": "python",
   "nbconvert_exporter": "python",
   "pygments_lexer": "ipython3",
   "version": "3.10.5"
  },
  "orig_nbformat": 4,
  "vscode": {
   "interpreter": {
    "hash": "3196968d684371006099b3d55edeef8ed90365227a30deaef86e5d4aa8519be0"
   }
  }
 },
 "nbformat": 4,
 "nbformat_minor": 2
}
